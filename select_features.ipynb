{
 "metadata": {
  "name": "",
  "signature": "sha256:58ea427afc3301369d61a2286ca0dcd22f8f92770022e9aeafcb565ccc0017cd"
 },
 "nbformat": 3,
 "nbformat_minor": 0,
 "worksheets": [
  {
   "cells": [
    {
     "cell_type": "code",
     "collapsed": false,
     "input": [
      "import os\n",
      "import sys\n",
      "import string\n",
      "from music21 import *\n",
      "from itertools import chain, imap"
     ],
     "language": "python",
     "metadata": {},
     "outputs": [],
     "prompt_number": 187
    },
    {
     "cell_type": "code",
     "collapsed": false,
     "input": [
      "def fetch_genres(basedir):\n",
      "    genres = []\n",
      "    nested = os.listdir(basedir)\n",
      "    for i in nested:\n",
      "        if(os.path.isdir(i) and not i.startswith(\".\")):\n",
      "            genres.append(i)\n",
      "    return genres"
     ],
     "language": "python",
     "metadata": {},
     "outputs": [],
     "prompt_number": 188
    },
    {
     "cell_type": "code",
     "collapsed": false,
     "input": [
      "def flatmap(f, items):\n",
      "        return chain.from_iterable(imap(f, items))"
     ],
     "language": "python",
     "metadata": {},
     "outputs": [],
     "prompt_number": 189
    },
    {
     "cell_type": "code",
     "collapsed": false,
     "input": [
      "def failed_features(basedir):\n",
      "    not_included = set()\n",
      "    fs = features.jSymbolic.extractorsById\n",
      "    genres = fetch_genres(basedir)\n",
      "    for genre in genres:\n",
      "        filename = basedir + \"/\" + genre + \"/features\"\n",
      "        files = os.listdir(filename)\n",
      "        for aFile in files:\n",
      "            if not aFile.startswith(\".\"):\n",
      "                arr = fileToArray(filename + \"/\" + aFile)\n",
      "                arr1 = set(map(lambda x: tuple(x.split(\", \")[0:2]), arr))\n",
      "                # If features failed to extract \n",
      "                for k in fs:\n",
      "                   if k is not \"I\":\n",
      "                        for i in range(len(fs[k])):\n",
      "                            if (k,str(i)) not in arr1 and fs[k][i] is not None:\n",
      "                                not_included.add((k,i))\n",
      "    return not_included"
     ],
     "language": "python",
     "metadata": {},
     "outputs": [],
     "prompt_number": 190
    },
    {
     "cell_type": "code",
     "collapsed": false,
     "input": [
      "def build_vectors(exclude_features, basedir):\n",
      "    pass"
     ],
     "language": "python",
     "metadata": {},
     "outputs": [],
     "prompt_number": 191
    },
    {
     "cell_type": "code",
     "collapsed": false,
     "input": [
      "def fileToArray(filename):\n",
      "    array = []\n",
      "    with open(filename, \"r\") as f:\n",
      "        for line in f:\n",
      "            array.append(line)\n",
      "        f.close()\n",
      "    return array"
     ],
     "language": "python",
     "metadata": {},
     "outputs": [],
     "prompt_number": 192
    },
    {
     "cell_type": "code",
     "collapsed": false,
     "input": [
      "basedir = \".\"\n",
      "\n",
      "# Features that failed to extract will not be written to files. Put all the failed\n",
      "# features into a set so that they can be excluded from the final vectors right away.\n",
      "not_included = failed_features(basedir)\n",
      "\n",
      "# Vectors is a list of lists. The inner list contains the features and the resulting\n",
      "# labels in the last position of each vector. \n",
      "vectors = build_vectors(not_included, basedir)\n",
      "\n",
      "\n",
      "print(str(not_included))"
     ],
     "language": "python",
     "metadata": {},
     "outputs": [
      {
       "output_type": "stream",
       "stream": "stdout",
       "text": [
        "set([('P', 19), ('M', 14), ('R', 17), ('R', 2), ('P', 4), ('P', 9), ('M', 19), ('T', 3), ('R', 12), ('R', 1), ('D', 2), ('P', 7), ('P', 20), ('M', 5), ('T', 9), ('P', 25), ('R', 22), ('T', 6), ('R', 11), ('P', 2), ('P', 23), ('R', 32), ('M', 10), ('T', 12), ('R', 21), ('R', 6), ('P', 13), ('P', 18), ('R', 31), ('M', 15), ('T', 15), ('R', 5), ('P', 8), ('M', 1), ('M', 12), ('T', 2), ('R', 15), ('D', 1), ('P', 6), ('P', 11), ('M', 6), ('T', 8), ('P', 24), ('R', 25), ('M', 17), ('T', 5), ('R', 10), ('D', 4), ('P', 1), ('P', 22), ('R', 35), ('M', 11), ('R', 20), ('R', 9), ('P', 12), ('P', 17), ('R', 30), ('M', 8), ('R', 19), ('R', 4), ('P', 15), ('M', 2), ('T', 20), ('M', 13), ('T', 1), ('R', 14), ('R', 3), ('P', 5), ('P', 10), ('M', 7), ('R', 24), ('M', 18), ('T', 4), ('R', 13), ('D', 3), ('P', 21), ('R', 34), ('M', 4), ('T', 10), ('R', 23), ('T', 7), ('R', 8), ('P', 3), ('P', 16), ('R', 33), ('M', 9), ('T', 13), ('R', 18), ('R', 7), ('P', 14), ('M', 3)])\n"
       ]
      }
     ],
     "prompt_number": 193
    },
    {
     "cell_type": "code",
     "collapsed": false,
     "input": [],
     "language": "python",
     "metadata": {},
     "outputs": [],
     "prompt_number": 193
    },
    {
     "cell_type": "code",
     "collapsed": false,
     "input": [],
     "language": "python",
     "metadata": {},
     "outputs": [],
     "prompt_number": 193
    },
    {
     "cell_type": "code",
     "collapsed": false,
     "input": [],
     "language": "python",
     "metadata": {},
     "outputs": [],
     "prompt_number": 193
    }
   ],
   "metadata": {}
  }
 ]
}