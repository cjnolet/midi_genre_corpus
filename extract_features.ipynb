{
 "cells": [
  {
   "cell_type": "code",
   "execution_count": 1,
   "metadata": {
    "collapsed": false
   },
   "outputs": [],
   "source": [
    "from music21 import *\n",
    "from multiprocessing import Process\n",
    "from multiprocessing import Pool\n",
    "import threading\n",
    "import sys\n",
    "import os"
   ]
  },
  {
   "cell_type": "code",
   "execution_count": 2,
   "metadata": {
    "collapsed": false
   },
   "outputs": [],
   "source": [
    "def extracted_features(file_path):\n",
    "    ret = []\n",
    "    if os.path.exists(file_path):\n",
    "        with open(file_path) as f:\n",
    "            content = f.readlines()\n",
    "            if len(content) > 0:\n",
    "                ret = map(lambda it: it.split(\",\")[0:2], content)\n",
    "                ret = map(lambda it: (it[0], it[1]), ret)\n",
    "\n",
    "        f.close()\n",
    "    return set(ret)"
   ]
  },
  {
   "cell_type": "code",
   "execution_count": 3,
   "metadata": {
    "collapsed": false
   },
   "outputs": [],
   "source": [
    "def chunks(l, n):\n",
    "    for i in xrange(0, len(l), n):\n",
    "        yield l[i:i+n]"
   ]
  },
  {
   "cell_type": "code",
   "execution_count": null,
   "metadata": {
    "collapsed": false
   },
   "outputs": [],
   "source": [
    "def extract(path, files):\n",
    "    print(\"Running thread for %s\" % (str(files)))\n",
    "    for i in files: \n",
    "        print(\"Opening coverter for %s/midi/%s\" % (path, str(i)))\n",
    "        try:\n",
    "            o = converter.parse(path + \"/midi/\" + str(i))\n",
    "            features_path = str(path) + \"/features/\" + str(i) + \".csv\"\n",
    "\n",
    "            # Allow the continuation of extraction if, for some reason, an error occurred\n",
    "            already_extracted = extracted_features(features_path)\n",
    "\n",
    "            fs = features.jSymbolic.extractorsById\n",
    "            for k in fs:\n",
    "               if k is not \"I\":\n",
    "                   for i in range(len(fs[k])):\n",
    "                      if (k, str(i)) not in already_extracted:\n",
    "                          if fs[k][i] is not None:\n",
    "                             n = fs[k][i].__name__\n",
    "                          if fs[k][i] in features.jSymbolic.featureExtractors:\n",
    "                             print(\"Extracting \" + str(n) + \" from \" + features_path)\n",
    "                             t5 = features.jSymbolic.getExtractorByTypeAndNumber(k, i)(o)\n",
    "                             try:\n",
    "                                 vec = t5.extract().vector\n",
    "                                 text_file = open(features_path, \"a\")\n",
    "                                 text_file.write(k + \",\" + str(i) + \",\" + str(n) + \",\" + str(list(vec)).replace(' ', '').replace('[', '').replace(']', '') + \"\\n\")\n",
    "                                 text_file.flush()\n",
    "                                 text_file.close()\n",
    "                             except:\n",
    "                                print(\"Error extracting \" + str(n) + \" from \" + features_path + \" continuing...\")\n",
    "        except: \n",
    "            print(\"Failure encountered extracting features from \" + path + \"/midi/\" + str(i))\n",
    "            \n",
    "            "
   ]
  },
  {
   "cell_type": "code",
   "execution_count": null,
   "metadata": {
    "collapsed": false
   },
   "outputs": [],
   "source": [
    "basedir = '.'\n",
    "genres = [\"country\", \"rock\", \"pop\", \"folk\", \"classical\", \"jazz\", \"rap\", \"rhythm_and_blues\"]\n",
    "\n",
    "pool = Pool(processes=25)\n",
    "processes = []\n",
    "for g in genres:\n",
    "    final_mids = []\n",
    "    mids = os.listdir(basedir + \"/\" + g + \"/midi\")\n",
    "    for i in mids:\n",
    "        if(i.endswith(\"midi\") or i.endswith(\"mid\")):\n",
    "           final_mids.append(i)\n",
    "\n",
    "    theChunks = list(chunks(final_mids, 1))\n",
    "\n",
    "    for i in theChunks:\n",
    "        pool.apply_async(extract, [basedir + \"/\" + g, i])\n",
    "\n",
    "pool.join()\n",
    "pool.close()\n",
    "\n",
    "print(\"Done extracting features.\")\n"
   ]
  }
 ],
 "metadata": {
  "kernelspec": {
   "display_name": "Python 2",
   "language": "python",
   "name": "python2"
  },
  "language_info": {
   "codemirror_mode": {
    "name": "ipython",
    "version": 2
   },
   "file_extension": ".py",
   "mimetype": "text/x-python",
   "name": "python",
   "nbconvert_exporter": "python",
   "pygments_lexer": "ipython2",
   "version": "2.7.11"
  }
 },
 "nbformat": 4,
 "nbformat_minor": 0
}
