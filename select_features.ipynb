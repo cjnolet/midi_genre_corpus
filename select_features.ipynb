{
 "metadata": {
  "name": "",
  "signature": "sha256:326395f4cca97c05a8e3f1bcc4ef201f469e6483f413d057f36ff3e10d1e1e3d"
 },
 "nbformat": 3,
 "nbformat_minor": 0,
 "worksheets": [
  {
   "cells": [
    {
     "cell_type": "code",
     "collapsed": false,
     "input": [
      "import os\n",
      "import sys\n",
      "import string\n",
      "from music21 import *\n",
      "from itertools import chain, imap\n",
      "import csv\n",
      "import json"
     ],
     "language": "python",
     "metadata": {},
     "outputs": [],
     "prompt_number": 109
    },
    {
     "cell_type": "code",
     "collapsed": false,
     "input": [
      "def fetch_genres(basedir):\n",
      "    genres = []\n",
      "    nested = os.listdir(basedir)\n",
      "    for i in nested:\n",
      "        if(os.path.isdir(i) and not i.startswith(\".\")):\n",
      "            genres.append(i)\n",
      "    return genres"
     ],
     "language": "python",
     "metadata": {},
     "outputs": [],
     "prompt_number": 110
    },
    {
     "cell_type": "code",
     "collapsed": false,
     "input": [
      "def chunks(l, n):\n",
      "    for i in xrange(0, len(l), n):\n",
      "        yield l[i:i+n]"
     ],
     "language": "python",
     "metadata": {},
     "outputs": [],
     "prompt_number": 111
    },
    {
     "cell_type": "code",
     "collapsed": false,
     "input": [
      "def flatmap(l):\n",
      "    return [item for sublist in l for item in sublist]"
     ],
     "language": "python",
     "metadata": {},
     "outputs": [],
     "prompt_number": 112
    },
    {
     "cell_type": "code",
     "collapsed": false,
     "input": [
      "def failed_features(basedir):\n",
      "    not_included = set()\n",
      "    fs = features.jSymbolic.extractorsById\n",
      "    genres = fetch_genres(basedir)\n",
      "    for genre in genres:\n",
      "        filename = basedir + \"/\" + genre + \"/features\"\n",
      "        files = os.listdir(filename)\n",
      "        for aFile in files:\n",
      "            if aFile.endswith(\".csv\"):\n",
      "                arr = fileToArray(filename + \"/\" + aFile)\n",
      "                arr1 = set(map(lambda x: tuple(x[0:2]), arr))\n",
      "                # If features failed to extract \n",
      "                for k in fs:\n",
      "                   if k is not \"I\":\n",
      "                        for i in range(len(fs[k])):\n",
      "                            if (k,str(i)) not in arr1 and fs[k][i] is not None:\n",
      "                                not_included.add((k,i))\n",
      "    return not_included"
     ],
     "language": "python",
     "metadata": {},
     "outputs": [],
     "prompt_number": 113
    },
    {
     "cell_type": "code",
     "collapsed": false,
     "input": [
      "def build_vectors(exclude_features, basedir):\n",
      "    genres = fetch_genres(basedir)\n",
      "    final_vecs = []\n",
      "    for genre in genres:\n",
      "        filename = basedir + \"/\" + genre + \"/features\"\n",
      "        files = os.listdir(filename)\n",
      "        for aFile in files:\n",
      "            vec = []\n",
      "            if aFile.endswith(\".csv\"):\n",
      "                arr = fileToArray(filename + \"/\" + aFile)\n",
      "                for i in arr:\n",
      "                    if (i[0], int(i[1])) not in exclude_features:\n",
      "                        vec.append(map(lambda x: float(x), i[3:]))\n",
      "            if len(vec) > 0:\n",
      "                final_vec = flatmap(vec)\n",
      "                final_vec.append(genre)\n",
      "                final_vecs.append(final_vec)\n",
      "    return final_vecs"
     ],
     "language": "python",
     "metadata": {},
     "outputs": [],
     "prompt_number": 114
    },
    {
     "cell_type": "code",
     "collapsed": false,
     "input": [
      "def fileToArray(filename):\n",
      "    array = []\n",
      "    with open(filename, 'rb') as f:\n",
      "        reader = csv.reader(f)\n",
      "        try:\n",
      "            array = list(reader)\n",
      "        except: \n",
      "            print(\"Error reading: \" + filename)\n",
      "    f.close()\n",
      "    return array"
     ],
     "language": "python",
     "metadata": {},
     "outputs": [],
     "prompt_number": 115
    },
    {
     "cell_type": "code",
     "collapsed": false,
     "input": [],
     "language": "python",
     "metadata": {},
     "outputs": [],
     "prompt_number": 115
    },
    {
     "cell_type": "code",
     "collapsed": false,
     "input": [
      "def perform_k_folds(k, vectors):\n",
      "    chunk_size = len(vectors) / k\n",
      "    chunked = chunks(vectors, chunk_size)\n",
      "    \n",
      "    sample_list = range(0, chunked)\n",
      "\n",
      "    "
     ],
     "language": "python",
     "metadata": {},
     "outputs": [],
     "prompt_number": 116
    },
    {
     "cell_type": "code",
     "collapsed": false,
     "input": [
      "basedir = \".\"\n",
      "\n",
      "# Features that failed to extract will not be written to files. Put all the failed\n",
      "# features into a set so that they can be excluded from the final vectors right away.\n",
      "not_included = failed_features(basedir)\n",
      "\n",
      "\n",
      "\n",
      "# Vectors is a list of lists. The inner list contains the features and the resulting\n",
      "# labels in the last position of each vector. \n",
      "vecs = build_vectors(not_included, basedir)\n",
      "\n",
      "print(str(len(vecs)))\n"
     ],
     "language": "python",
     "metadata": {},
     "outputs": [
      {
       "output_type": "stream",
       "stream": "stdout",
       "text": [
        "57\n"
       ]
      }
     ],
     "prompt_number": 117
    },
    {
     "cell_type": "code",
     "collapsed": false,
     "input": [],
     "language": "python",
     "metadata": {},
     "outputs": [],
     "prompt_number": 117
    },
    {
     "cell_type": "code",
     "collapsed": false,
     "input": [],
     "language": "python",
     "metadata": {},
     "outputs": [],
     "prompt_number": 117
    },
    {
     "cell_type": "code",
     "collapsed": false,
     "input": [],
     "language": "python",
     "metadata": {},
     "outputs": [],
     "prompt_number": 117
    },
    {
     "cell_type": "code",
     "collapsed": false,
     "input": [],
     "language": "python",
     "metadata": {},
     "outputs": [],
     "prompt_number": 117
    },
    {
     "cell_type": "code",
     "collapsed": false,
     "input": [],
     "language": "python",
     "metadata": {},
     "outputs": [],
     "prompt_number": 117
    },
    {
     "cell_type": "code",
     "collapsed": false,
     "input": [],
     "language": "python",
     "metadata": {},
     "outputs": [],
     "prompt_number": 117
    }
   ],
   "metadata": {}
  }
 ]
}