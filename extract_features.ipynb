{
 "metadata": {
  "name": "",
  "signature": "sha256:bbebb0cddb4c95ff3cb6b8f190217cb7a49025259e724106e4944d89d68d1be0"
 },
 "nbformat": 3,
 "nbformat_minor": 0,
 "worksheets": [
  {
   "cells": [
    {
     "cell_type": "code",
     "collapsed": false,
     "input": [
      "from music21 import *\n",
      "from multiprocessing import Process\n",
      "from multiprocessing import Pool\n",
      "import threading\n",
      "import sys\n",
      "import os"
     ],
     "language": "python",
     "metadata": {},
     "outputs": []
    },
    {
     "cell_type": "code",
     "collapsed": false,
     "input": [
      "def extracted_features(file_path):\n",
      "    ret = []\n",
      "    if os.path.exists(file_path):\n",
      "        with open(file_path) as f:\n",
      "            content = f.readlines()\n",
      "            if len(content) > 0:\n",
      "                ret = set(map(lambda it: tuple(it.split(\", \")[0:2]), content))\n",
      "        f.close()\n",
      "    return ret"
     ],
     "language": "python",
     "metadata": {},
     "outputs": []
    },
    {
     "cell_type": "code",
     "collapsed": false,
     "input": [
      "def chunks(l, n):\n",
      "    for i in xrange(0, len(l), n):\n",
      "        yield l[i:i+n]"
     ],
     "language": "python",
     "metadata": {},
     "outputs": []
    },
    {
     "cell_type": "code",
     "collapsed": false,
     "input": [
      "def extract(path, files):\n",
      "    print(\"Running thread for %s\" % (str(files)))\n",
      "    for i in files: \n",
      "        print(\"Opening coverter for %s/midi/%s\" % (path, str(i)))\n",
      "        try:\n",
      "            o = converter.parse(path + \"/midi/\" + str(i))\n",
      "            features_path = str(path) + \"/features/\" + str(i) + \".csv\"\n",
      "            \n",
      "            # Allow the continuation of extraction if, for some reason, an error occurred\n",
      "            already_extracted = extracted_features(features_path)\n",
      "\n",
      "            fs = features.jSymbolic.extractorsById\n",
      "            for k in fs:\n",
      "               if k is not \"I\":\n",
      "                   for i in range(len(fs[k])):\n",
      "                      if (k, str(i)) not in already_extracted:\n",
      "                          if fs[k][i] is not None:\n",
      "                             n = fs[k][i].__name__\n",
      "                          if fs[k][i] in features.jSymbolic.featureExtractors:\n",
      "                             print(\"Extracting \" + str(n) + \" from \" + features_path)\n",
      "                             t5 = features.jSymbolic.getExtractorByTypeAndNumber(k, i)(o)\n",
      "                             try:\n",
      "                                 vec = t5.extract().vector\n",
      "                                 text_file = open(features_path, \"a\")\n",
      "                                 text_file.write(k + \", \" + str(i) + \", \" + str(n) + \", \\\"\" + str(list(vec)) + \"\\\"\\n\")\n",
      "                                 text_file.flush()\n",
      "                                 text_file.close()\n",
      "                             except:\n",
      "                                print(\"Error extracting \" + str(n) + \" from \" + features_path + \" continuing...\")\n",
      "        except: \n",
      "            print(\"Failure encountered converting \" + path + \"/midi/\" + str(i))"
     ],
     "language": "python",
     "metadata": {},
     "outputs": []
    },
    {
     "cell_type": "code",
     "collapsed": false,
     "input": [
      "basedir = sys.argv[1]\n",
      "genres = [\"country\", \"rock\", \"pop\", \"folk\", \"classical\", \"jazz\", \"rap\", \"world\", \"rhythm_and_blues\"]\n",
      "\n",
      "pool = Pool(processes=25)\n",
      "processes = []\n",
      "for g in genres:\n",
      "    final_mids = []\n",
      "    mids = os.listdir(basedir + \"/\" + g + \"/midi\")\n",
      "    for i in mids:\n",
      "        if(i.endswith(\"midi\") or i.endswith(\"mid\")):\n",
      "           final_mids.append(i)\n",
      "\n",
      "    theChunks = list(chunks(final_mids, int(sys.argv[2])))\n",
      "\n",
      "    for i in theChunks:\n",
      "        pool.apply_async(extract, [basedir + \"/\" + g, i])\n",
      "\n",
      "pool.close()\n",
      "pool.join()\n",
      "\n",
      "print(\"Done extracting features.\")\n"
     ],
     "language": "python",
     "metadata": {},
     "outputs": []
    }
   ],
   "metadata": {}
  }
 ]
}